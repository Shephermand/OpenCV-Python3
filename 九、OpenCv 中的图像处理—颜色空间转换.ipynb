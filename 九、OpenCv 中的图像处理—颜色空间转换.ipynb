{
 "cells": [
  {
   "cell_type": "markdown",
   "metadata": {},
   "source": [
    "<h2>颜色空间转换</h2>"
   ]
  },
  {
   "cell_type": "markdown",
   "metadata": {},
   "source": [
    "<h3>目标</h3>"
   ]
  },
  {
   "cell_type": "markdown",
   "metadata": {},
   "source": [
    "<ul><li>在本教程中，您将学习如何将图像从一个颜色空间转换为另一个颜色空间，如BGR——>Gray,BGR——>HSV 等。</li>\n",
    "    <li>除此之外，我们还将创建一个应用程序，在视频中提取一个有色对象。</li>\n",
    "    <li>你将要学习这些函数：cv2.cvtColor(),cv2.inRange()等</li>\n",
    "    </ul>"
   ]
  },
  {
   "cell_type": "markdown",
   "metadata": {},
   "source": [
    "<h3>9.1 转换颜色空间</h3>"
   ]
  },
  {
   "cell_type": "markdown",
   "metadata": {},
   "source": [
    "在OpenCV中有150多种颜色空间转换方法。但是我们将只研究其中最广泛使用的两种，BGR 与 Gray，BGR 与 HSV。 "
   ]
  },
  {
   "cell_type": "markdown",
   "metadata": {},
   "source": [
    "对于颜色转换，我们经常使用函数cv2.cvtColor(input_image, flag)，其中 flag 决定转换的类型。"
   ]
  },
  {
   "cell_type": "markdown",
   "metadata": {},
   "source": [
    "对于BGR 与 Gray 转换，我们使用flag 是 cv2.COLOR_BGR2GRAY。类似地，对于BGR 与 HSV，我们使用了flag 是 cv2.COLOR_BGR2HSV。要获取其他flag，只需在Python终端中运行以下命令:"
   ]
  },
  {
   "cell_type": "code",
   "execution_count": null,
   "metadata": {},
   "outputs": [],
   "source": [
    "import cv2\n",
    "flags = [i for i in dir(cv2) if i.startswith('COLOR_')]\n",
    "print(flags)"
   ]
  },
  {
   "cell_type": "markdown",
   "metadata": {},
   "source": [
    "<h4>注意\n",
    "</h4>在 OpenCV 的 HSV 格式中 H(色彩/色度)的取值范围是 [0,179]  S(饱和度)的取值范围 [0,255] V(亮度)的取值范围 [0,255]。但是不同的软件使用的值可能不同。所以当你需要拿 OpenCV 的 HSV 值与其他软件的 HSV 值对比时，一定记得归一化。"
   ]
  },
  {
   "cell_type": "markdown",
   "metadata": {},
   "source": [
    "<h3>9.2 物体跟踪</h3>"
   ]
  },
  {
   "cell_type": "markdown",
   "metadata": {},
   "source": [
    "现在我们知道了如何将BGR图像转换为HSV，我们可以用它来提取一个颜色对象。在HSV中，表示颜色比RGB颜色空间更容易。在我们的应用程序中，我们将尝试提取一个蓝色的对象。下面这就是方法：\n",
    "<ul>\n",
    "    <li>提取每一帧的视频</li>\n",
    "    <li>将图像转换到HSV空间</li>\n",
    "    <li>设置HSV图像阈值到蓝色范围</li>\n",
    "    <li>现在提取蓝色物体，我们可以在图像上做任何我们想做的事情。</li>\n",
    "    </ul>\n",
    "  下面是有详细注释的代码:"
   ]
  },
  {
   "cell_type": "code",
   "execution_count": 1,
   "metadata": {},
   "outputs": [],
   "source": [
    "import cv2\n",
    "import numpy as np\n",
    "\n",
    "cap = cv2.VideoCapture(0)\n",
    "\n",
    "while(1):\n",
    "\n",
    "    # 提取每一帧的视频\n",
    "    _, frame = cap.read()\n",
    "\n",
    "    # 将BGR转换为 HSV\n",
    "    hsv = cv2.cvtColor(frame, cv2.COLOR_BGR2HSV)\n",
    "\n",
    "    # 定义HSV中蓝色的范围\n",
    "    #黑色lower_black = np.array([0,0,0]) upper_black = np.array([180,255,46])\n",
    "    lower_blue = np.array([110,50,50])\n",
    "    upper_blue = np.array([130,255,255])\n",
    "\n",
    "    # 根据阈值HSV 构建掩模\n",
    "    mask = cv2.inRange(hsv, lower_blue, upper_blue)\n",
    "\n",
    "    # 对原图像和掩模进行位运算\n",
    "    res = cv2.bitwise_and(frame,frame, mask= mask)\n",
    "\n",
    "    cv2.imshow('frame',frame)\n",
    "    cv2.imshow('mask',mask)\n",
    "    cv2.imshow('res',res)\n",
    "    k = cv2.waitKey(5) & 0xFF\n",
    "    if k == 27:\n",
    "        break\n",
    "\n",
    "cv2.destroyAllWindows()"
   ]
  },
  {
   "cell_type": "markdown",
   "metadata": {},
   "source": [
    "<h4>注意：</h4>图像中有一些噪声。我们将在后面的章节中看到如何删除它们。<br><br>\n",
    "这是对象跟踪中最简单的方法。一旦你学习了等高线的功能，你可以做很多事情，比如找到这个物体的质心，然后用它来跟踪物体，画出图，你的手在镜头前移动，还有很多其他有趣的东西。"
   ]
  },
  {
   "cell_type": "markdown",
   "metadata": {},
   "source": [
    "<h3>9.3 如何找到要跟踪对象的HSV值？</h3>"
   ]
  },
  {
   "cell_type": "markdown",
   "metadata": {},
   "source": [
    "这是stackoverflow.com上常见的一个问题。它非常简单，您可以使用相同的函数cv2.cvtColor()。您只需传递您想要的BGR值，而不是传递一个图像。例如，要找到绿色的HSV值，可以在Python终端中尝试以下命令:"
   ]
  },
  {
   "cell_type": "code",
   "execution_count": 3,
   "metadata": {},
   "outputs": [
    {
     "name": "stdout",
     "output_type": "stream",
     "text": [
      "[[[ 60 255 255]]]\n"
     ]
    }
   ],
   "source": [
    "green = np.uint8([[[0,255,0 ]]])\n",
    "hsv_green = cv2.cvtColor(green,cv2.COLOR_BGR2HSV)\n",
    "print(hsv_green)"
   ]
  }
 ],
 "metadata": {
  "kernelspec": {
   "display_name": "Python 3",
   "language": "python",
   "name": "python3"
  },
  "language_info": {
   "codemirror_mode": {
    "name": "ipython",
    "version": 3
   },
   "file_extension": ".py",
   "mimetype": "text/x-python",
   "name": "python",
   "nbconvert_exporter": "python",
   "pygments_lexer": "ipython3",
   "version": "3.6.0"
  }
 },
 "nbformat": 4,
 "nbformat_minor": 2
}
