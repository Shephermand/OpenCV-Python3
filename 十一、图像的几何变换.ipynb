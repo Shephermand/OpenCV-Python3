{
 "cells": [
  {
   "cell_type": "markdown",
   "metadata": {},
   "source": [
    "[原文链接:Geometric Transformations of Images](https://opencv-python-tutroals.readthedocs.io/en/latest/py_tutorials/py_imgproc/py_geometric_transformations/py_geometric_transformations.html)"
   ]
  },
  {
   "cell_type": "markdown",
   "metadata": {},
   "source": [
    "<h2>图像的几何变换</h2>"
   ]
  },
  {
   "cell_type": "markdown",
   "metadata": {},
   "source": [
    "### 目标"
   ]
  },
  {
   "cell_type": "markdown",
   "metadata": {},
   "source": [
    "<ul><li>在本教程中，你将学习几种简单变换。如：移动、旋转、仿射变换。</li>\n",
    "    <li>你将学习这些函数：cv2.getPerspectiveTransform等。</li></ul>"
   ]
  },
  {
   "cell_type": "markdown",
   "metadata": {},
   "source": [
    "### 变换"
   ]
  },
  {
   "cell_type": "markdown",
   "metadata": {},
   "source": [
    "openCv 提供了两种变换函数，cv2.warpAffine 和 cv2.warpPerspective。通过这两个函数，你可以实现所有的图像变换。cv2.warpAffine接受的参数是2x3的变换矩阵。cv2.warpPerspective 接受的参数是3x3的变换矩阵。"
   ]
  },
  {
   "cell_type": "markdown",
   "metadata": {},
   "source": [
    "###  扩展缩放"
   ]
  },
  {
   "cell_type": "markdown",
   "metadata": {},
   "source": [
    "扩展缩放只是改变图像的尺寸大小。OpenCV 提供的函数 cv2.resize() 可以实现这个功能。图像的尺寸可以自己手动设置，你也可以指定缩放因子。我们可以选择使用不同的插值方法。在缩放时我们推荐使用 cv2.INTER_AREA 。在扩展时我们推荐使用 v2.INTER_CUBIC（慢) 和 v2.INTER_LINEAR。默认情况下所有改变图像尺寸大小的操作使用的插值方法都是 cv2.INTER_LINEAR。 你可以使用下面任意一种方法改变图像的尺寸："
   ]
  },
  {
   "cell_type": "code",
   "execution_count": 3,
   "metadata": {},
   "outputs": [],
   "source": [
    "import cv2\n",
    "import numpy as np\n",
    "\n",
    "img = cv2.imread('./image/messi5.jpg')\n",
    "\n",
    "res = cv2.resize(img,None,fx=2, fy=2, interpolation = cv2.INTER_CUBIC)\n",
    "\n",
    "#或者\n",
    "\n",
    "height, width = img.shape[:2]\n",
    "res = cv2.resize(img,(2*width, 2*height), interpolation = cv2.INTER_CUBIC)\n",
    "\n",
    "while(1):\n",
    "    cv2.imshow('res',res)\n",
    "    cv2.imshow('img',img)\n",
    "    if cv2.waitKey(1) & 0xFF == 27: \n",
    "        break\n",
    "cv2.destroyAllWindows()"
   ]
  },
  {
   "cell_type": "markdown",
   "metadata": {},
   "source": [
    "### 平移"
   ]
  },
  {
   "cell_type": "markdown",
   "metadata": {},
   "source": [
    "平移是转换一个对象的位置。如果你沿(x ,y) 方向移动,移动的距离是$$({t_x},{t_y})$$你可以用下面的方式构建移动矩阵：M = $ \\begin{bmatrix} 1 & 0 & t_x \\\\ 0 & 1 & t_y \\\\ \\end{bmatrix} $你可以使用 Numpy 数组构建一个矩阵数据类型是 np.float32 ，然后把它传给函数 cv2.warpAffine()。看下面的这个例子，它移动了(100,50)个像素。"
   ]
  },
  {
   "cell_type": "code",
   "execution_count": 1,
   "metadata": {},
   "outputs": [],
   "source": [
    "import cv2\n",
    "import numpy as np\n",
    "\n",
    "img = cv2.imread('image/messi5.jpg',0)\n",
    "rows,cols = img.shape\n",
    "\n",
    "M = np.float32([[1,0,100],[0,1,50]])\n",
    "dst = cv2.warpAffine(img,M,(cols,rows))\n",
    "\n",
    "cv2.imshow('img',dst)\n",
    "cv2.waitKey(0)\n",
    "cv2.destroyAllWindows()"
   ]
  },
  {
   "cell_type": "markdown",
   "metadata": {},
   "source": [
    "#### 警告"
   ]
  },
  {
   "cell_type": "markdown",
   "metadata": {},
   "source": [
    "函数 cv2.warpAffine() 的第三个参数的是输出图像的大小，它的格式应该是图像的宽和高。应记住的是图像的宽对应的是列数，高对应的是行数。"
   ]
  },
  {
   "cell_type": "markdown",
   "metadata": {},
   "source": [
    "看结果展示：![](\"image/translation.jpg\")"
   ]
  },
  {
   "cell_type": "markdown",
   "metadata": {},
   "source": [
    "### 旋转\n"
   ]
  },
  {
   "cell_type": "markdown",
   "metadata": {},
   "source": [
    "对一个图像旋角度 θ,需要使用到下面形式的旋转矩阵：M = $ \\begin{bmatrix} cos𝛳 & -sin𝛳 \\\\ sin𝛳 & cos𝛳 \\\\ \\end{bmatrix} $ 但是OpenCV提供了可调旋转中心的缩放旋转，这样你可以在任何你喜欢的位置旋转。修正后的变换矩阵为:$ \\begin{bmatrix} å & ß & (1-å)·center.x - ß·center.y \\\\ -ß & å & ß·center.x + (1-å)center.y \\\\ \\end{bmatrix} $其中，å = scale·cos𝛳，ß = scale·sin𝛳"
   ]
  },
  {
   "cell_type": "markdown",
   "metadata": {},
   "source": [
    "为了构建这个旋转矩阵  OpenCV 提供了一个函数 cv2.getRotationMatrix2D。 下面的例子是在不缩放的情况下将图像旋  90 度。"
   ]
  },
  {
   "cell_type": "code",
   "execution_count": null,
   "metadata": {},
   "outputs": [],
   "source": [
    "img = cv2.imread('messi5.jpg',0)\n",
    "rows,cols = img.shape\n",
    "\n",
    "M = cv2.getRotationMatrix2D((cols/2,rows/2),90,1)\n",
    "dst = cv2.warpAffine(img,M,(cols,rows))"
   ]
  },
  {
   "cell_type": "markdown",
   "metadata": {},
   "source": [
    "看这个结果："
   ]
  },
  {
   "cell_type": "markdown",
   "metadata": {},
   "source": [
    "### 仿射变换"
   ]
  },
  {
   "cell_type": "markdown",
   "metadata": {},
   "source": [
    "在仿射变换中，原图中所有的平行线在结果图像中同样平行。为了创建这个个矩阵我们从原图像中找到三个点以及他们在输出图像中的位置。然后 cv2.getAffineTransform 会创建一个 2X3 的矩阵。最后这个矩阵会传给函数 cv2.warpAffine。"
   ]
  },
  {
   "cell_type": "markdown",
   "metadata": {},
   "source": [
    "来看看下面的例子，以及我选择的点（被标记为绿色的点 ）\n",
    "\n"
   ]
  },
  {
   "cell_type": "code",
   "execution_count": null,
   "metadata": {},
   "outputs": [],
   "source": [
    "img = cv2.imread('drawing.png')\n",
    "rows,cols,ch = img.shape\n",
    "\n",
    "pts1 = np.float32([[50,50],[200,50],[50,200]])\n",
    "pts2 = np.float32([[10,100],[200,50],[100,250]])\n",
    "\n",
    "M = cv2.getAffineTransform(pts1,pts2)\n",
    "\n",
    "dst = cv2.warpAffine(img,M,(cols,rows))\n",
    "\n",
    "plt.subplot(121),plt.imshow(img),plt.title('Input')\n",
    "plt.subplot(122),plt.imshow(dst),plt.title('Output')\n",
    "plt.show()\n"
   ]
  },
  {
   "cell_type": "markdown",
   "metadata": {},
   "source": [
    "看下面结果，affine.jpg"
   ]
  },
  {
   "cell_type": "markdown",
   "metadata": {},
   "source": [
    "### 透视变换"
   ]
  },
  {
   "cell_type": "markdown",
   "metadata": {},
   "source": [
    "对于透视变换，我们需要一个 3X3 变换矩阵。在变换前后直线还是直线。要构建这个变换矩，你需要在在输入图像上找 4 个点，以及他们在输出图像上对应的位置。 四个点中的任意三个不能共线。这个变换矩阵可以由函数 cv2.getPerspectiveTransform() 构建。然后把这个矩阵传给函数 cv2.warpPerspective。"
   ]
  },
  {
   "cell_type": "markdown",
   "metadata": {},
   "source": [
    "代码如下："
   ]
  },
  {
   "cell_type": "code",
   "execution_count": null,
   "metadata": {},
   "outputs": [],
   "source": [
    "\n",
    "\n",
    "img = cv2.imread('sudokusmall.png')\n",
    "rows,cols,ch = img.shape\n",
    "\n",
    "pts1 = np.float32([[56,65],[368,52],[28,387],[389,390]])\n",
    "pts2 = np.float32([[0,0],[300,0],[0,300],[300,300]])\n",
    "\n",
    "M = cv2.getPerspectiveTransform(pts1,pts2)\n",
    "\n",
    "dst = cv2.warpPerspective(img,M,(300,300))\n",
    "\n",
    "plt.subplot(121),plt.imshow(img),plt.title('Input')\n",
    "plt.subplot(122),plt.imshow(dst),plt.title('Output')\n",
    "plt.show()\n"
   ]
  },
  {
   "cell_type": "markdown",
   "metadata": {},
   "source": [
    "结果：perspective.jpg"
   ]
  },
  {
   "cell_type": "code",
   "execution_count": null,
   "metadata": {},
   "outputs": [],
   "source": []
  }
 ],
 "metadata": {
  "kernelspec": {
   "display_name": "Python 3",
   "language": "python",
   "name": "python3"
  },
  "language_info": {
   "codemirror_mode": {
    "name": "ipython",
    "version": 3
   },
   "file_extension": ".py",
   "mimetype": "text/x-python",
   "name": "python",
   "nbconvert_exporter": "python",
   "pygments_lexer": "ipython3",
   "version": "3.6.0"
  }
 },
 "nbformat": 4,
 "nbformat_minor": 2
}
